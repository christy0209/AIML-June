{
 "cells": [
  {
   "cell_type": "code",
   "execution_count": 1,
   "metadata": {},
   "outputs": [],
   "source": [
    "import pandas as pd"
   ]
  },
  {
   "cell_type": "code",
   "execution_count": 2,
   "metadata": {},
   "outputs": [],
   "source": [
    "data = pd.read_csv(\"data/salesprice_processed.csv\")"
   ]
  },
  {
   "cell_type": "code",
   "execution_count": 3,
   "metadata": {},
   "outputs": [
    {
     "data": {
      "text/html": [
       "<div>\n",
       "<style scoped>\n",
       "    .dataframe tbody tr th:only-of-type {\n",
       "        vertical-align: middle;\n",
       "    }\n",
       "\n",
       "    .dataframe tbody tr th {\n",
       "        vertical-align: top;\n",
       "    }\n",
       "\n",
       "    .dataframe thead th {\n",
       "        text-align: right;\n",
       "    }\n",
       "</style>\n",
       "<table border=\"1\" class=\"dataframe\">\n",
       "  <thead>\n",
       "    <tr style=\"text-align: right;\">\n",
       "      <th></th>\n",
       "      <th>MSSubClass</th>\n",
       "      <th>LotFrontage</th>\n",
       "      <th>LotArea</th>\n",
       "      <th>OverallQual</th>\n",
       "      <th>OverallCond</th>\n",
       "      <th>YearBuilt</th>\n",
       "      <th>YearRemodAdd</th>\n",
       "      <th>MasVnrArea</th>\n",
       "      <th>BsmtFinSF1</th>\n",
       "      <th>BsmtFinSF2</th>\n",
       "      <th>...</th>\n",
       "      <th>SaleType_ConLw</th>\n",
       "      <th>SaleType_New</th>\n",
       "      <th>SaleType_Oth</th>\n",
       "      <th>SaleType_WD</th>\n",
       "      <th>SaleCondition_Abnorml</th>\n",
       "      <th>SaleCondition_AdjLand</th>\n",
       "      <th>SaleCondition_Alloca</th>\n",
       "      <th>SaleCondition_Family</th>\n",
       "      <th>SaleCondition_Normal</th>\n",
       "      <th>SaleCondition_Partial</th>\n",
       "    </tr>\n",
       "  </thead>\n",
       "  <tbody>\n",
       "    <tr>\n",
       "      <th>0</th>\n",
       "      <td>60</td>\n",
       "      <td>65.0</td>\n",
       "      <td>8450.0</td>\n",
       "      <td>7</td>\n",
       "      <td>5.0</td>\n",
       "      <td>2003</td>\n",
       "      <td>2003</td>\n",
       "      <td>196.0</td>\n",
       "      <td>706.0</td>\n",
       "      <td>0</td>\n",
       "      <td>...</td>\n",
       "      <td>0</td>\n",
       "      <td>0</td>\n",
       "      <td>0</td>\n",
       "      <td>1</td>\n",
       "      <td>0</td>\n",
       "      <td>0</td>\n",
       "      <td>0</td>\n",
       "      <td>0</td>\n",
       "      <td>1</td>\n",
       "      <td>0</td>\n",
       "    </tr>\n",
       "    <tr>\n",
       "      <th>1</th>\n",
       "      <td>20</td>\n",
       "      <td>80.0</td>\n",
       "      <td>9600.0</td>\n",
       "      <td>6</td>\n",
       "      <td>7.5</td>\n",
       "      <td>1976</td>\n",
       "      <td>1976</td>\n",
       "      <td>0.0</td>\n",
       "      <td>978.0</td>\n",
       "      <td>0</td>\n",
       "      <td>...</td>\n",
       "      <td>0</td>\n",
       "      <td>0</td>\n",
       "      <td>0</td>\n",
       "      <td>1</td>\n",
       "      <td>0</td>\n",
       "      <td>0</td>\n",
       "      <td>0</td>\n",
       "      <td>0</td>\n",
       "      <td>1</td>\n",
       "      <td>0</td>\n",
       "    </tr>\n",
       "    <tr>\n",
       "      <th>2</th>\n",
       "      <td>60</td>\n",
       "      <td>68.0</td>\n",
       "      <td>11250.0</td>\n",
       "      <td>7</td>\n",
       "      <td>5.0</td>\n",
       "      <td>2001</td>\n",
       "      <td>2002</td>\n",
       "      <td>162.0</td>\n",
       "      <td>486.0</td>\n",
       "      <td>0</td>\n",
       "      <td>...</td>\n",
       "      <td>0</td>\n",
       "      <td>0</td>\n",
       "      <td>0</td>\n",
       "      <td>1</td>\n",
       "      <td>0</td>\n",
       "      <td>0</td>\n",
       "      <td>0</td>\n",
       "      <td>0</td>\n",
       "      <td>1</td>\n",
       "      <td>0</td>\n",
       "    </tr>\n",
       "    <tr>\n",
       "      <th>3</th>\n",
       "      <td>70</td>\n",
       "      <td>60.0</td>\n",
       "      <td>9550.0</td>\n",
       "      <td>7</td>\n",
       "      <td>5.0</td>\n",
       "      <td>1915</td>\n",
       "      <td>1970</td>\n",
       "      <td>0.0</td>\n",
       "      <td>216.0</td>\n",
       "      <td>0</td>\n",
       "      <td>...</td>\n",
       "      <td>0</td>\n",
       "      <td>0</td>\n",
       "      <td>0</td>\n",
       "      <td>1</td>\n",
       "      <td>1</td>\n",
       "      <td>0</td>\n",
       "      <td>0</td>\n",
       "      <td>0</td>\n",
       "      <td>0</td>\n",
       "      <td>0</td>\n",
       "    </tr>\n",
       "    <tr>\n",
       "      <th>4</th>\n",
       "      <td>60</td>\n",
       "      <td>84.0</td>\n",
       "      <td>14260.0</td>\n",
       "      <td>8</td>\n",
       "      <td>5.0</td>\n",
       "      <td>2000</td>\n",
       "      <td>2000</td>\n",
       "      <td>350.0</td>\n",
       "      <td>655.0</td>\n",
       "      <td>0</td>\n",
       "      <td>...</td>\n",
       "      <td>0</td>\n",
       "      <td>0</td>\n",
       "      <td>0</td>\n",
       "      <td>1</td>\n",
       "      <td>0</td>\n",
       "      <td>0</td>\n",
       "      <td>0</td>\n",
       "      <td>0</td>\n",
       "      <td>1</td>\n",
       "      <td>0</td>\n",
       "    </tr>\n",
       "  </tbody>\n",
       "</table>\n",
       "<p>5 rows × 271 columns</p>\n",
       "</div>"
      ],
      "text/plain": [
       "   MSSubClass  LotFrontage  LotArea  OverallQual  OverallCond  YearBuilt  \\\n",
       "0          60         65.0   8450.0            7          5.0       2003   \n",
       "1          20         80.0   9600.0            6          7.5       1976   \n",
       "2          60         68.0  11250.0            7          5.0       2001   \n",
       "3          70         60.0   9550.0            7          5.0       1915   \n",
       "4          60         84.0  14260.0            8          5.0       2000   \n",
       "\n",
       "   YearRemodAdd  MasVnrArea  BsmtFinSF1  BsmtFinSF2  ...  SaleType_ConLw  \\\n",
       "0          2003       196.0       706.0           0  ...               0   \n",
       "1          1976         0.0       978.0           0  ...               0   \n",
       "2          2002       162.0       486.0           0  ...               0   \n",
       "3          1970         0.0       216.0           0  ...               0   \n",
       "4          2000       350.0       655.0           0  ...               0   \n",
       "\n",
       "   SaleType_New  SaleType_Oth  SaleType_WD  SaleCondition_Abnorml  \\\n",
       "0             0             0            1                      0   \n",
       "1             0             0            1                      0   \n",
       "2             0             0            1                      0   \n",
       "3             0             0            1                      1   \n",
       "4             0             0            1                      0   \n",
       "\n",
       "   SaleCondition_AdjLand  SaleCondition_Alloca  SaleCondition_Family  \\\n",
       "0                      0                     0                     0   \n",
       "1                      0                     0                     0   \n",
       "2                      0                     0                     0   \n",
       "3                      0                     0                     0   \n",
       "4                      0                     0                     0   \n",
       "\n",
       "   SaleCondition_Normal  SaleCondition_Partial  \n",
       "0                     1                      0  \n",
       "1                     1                      0  \n",
       "2                     1                      0  \n",
       "3                     0                      0  \n",
       "4                     1                      0  \n",
       "\n",
       "[5 rows x 271 columns]"
      ]
     },
     "execution_count": 3,
     "metadata": {},
     "output_type": "execute_result"
    }
   ],
   "source": [
    "data.head()"
   ]
  },
  {
   "cell_type": "code",
   "execution_count": 4,
   "metadata": {},
   "outputs": [
    {
     "data": {
      "text/plain": [
       "0    208500.0\n",
       "1    181500.0\n",
       "2    223500.0\n",
       "3    140000.0\n",
       "4    250000.0\n",
       "Name: SalePrice, dtype: float64"
      ]
     },
     "execution_count": 4,
     "metadata": {},
     "output_type": "execute_result"
    }
   ],
   "source": [
    "data['SalePrice'].head()"
   ]
  },
  {
   "cell_type": "markdown",
   "metadata": {},
   "source": [
    "### Checking correlation"
   ]
  },
  {
   "cell_type": "code",
   "execution_count": 5,
   "metadata": {},
   "outputs": [],
   "source": [
    "saleprice_corr = data.corr()['SalePrice']"
   ]
  },
  {
   "cell_type": "code",
   "execution_count": 6,
   "metadata": {},
   "outputs": [
    {
     "data": {
      "text/plain": [
       "MSSubClass              -0.061456\n",
       "LotFrontage              0.376300\n",
       "LotArea                  0.435876\n",
       "OverallQual              0.817680\n",
       "OverallCond             -0.105920\n",
       "                           ...   \n",
       "SaleCondition_AdjLand   -0.057114\n",
       "SaleCondition_Alloca    -0.015641\n",
       "SaleCondition_Family    -0.048646\n",
       "SaleCondition_Normal    -0.127966\n",
       "SaleCondition_Partial    0.339549\n",
       "Name: SalePrice, Length: 271, dtype: float64"
      ]
     },
     "execution_count": 6,
     "metadata": {},
     "output_type": "execute_result"
    }
   ],
   "source": [
    "saleprice_corr"
   ]
  },
  {
   "cell_type": "code",
   "execution_count": 7,
   "metadata": {},
   "outputs": [
    {
     "data": {
      "text/plain": [
       "MSSubClass               False\n",
       "LotFrontage               True\n",
       "LotArea                   True\n",
       "OverallQual               True\n",
       "OverallCond               True\n",
       "                         ...  \n",
       "SaleCondition_AdjLand    False\n",
       "SaleCondition_Alloca     False\n",
       "SaleCondition_Family     False\n",
       "SaleCondition_Normal      True\n",
       "SaleCondition_Partial     True\n",
       "Name: SalePrice, Length: 271, dtype: bool"
      ]
     },
     "execution_count": 7,
     "metadata": {},
     "output_type": "execute_result"
    }
   ],
   "source": [
    "abs(saleprice_corr)>0.1"
   ]
  },
  {
   "cell_type": "code",
   "execution_count": 8,
   "metadata": {},
   "outputs": [],
   "source": [
    "req_columns = saleprice_corr[abs(saleprice_corr)>0.1].index  #selecting columns with correlation"
   ]
  },
  {
   "cell_type": "code",
   "execution_count": 9,
   "metadata": {},
   "outputs": [
    {
     "data": {
      "text/plain": [
       "Index(['LotFrontage', 'LotArea', 'OverallQual', 'OverallCond', 'YearBuilt',\n",
       "       'YearRemodAdd', 'MasVnrArea', 'BsmtFinSF1', 'BsmtUnfSF', 'TotalBsmtSF',\n",
       "       ...\n",
       "       'GarageQual_TA', 'GarageCond_Fa', 'GarageCond_TA', 'PavedDrive_N',\n",
       "       'PavedDrive_Y', 'SaleType_New', 'SaleType_WD', 'SaleCondition_Abnorml',\n",
       "       'SaleCondition_Normal', 'SaleCondition_Partial'],\n",
       "      dtype='object', length=132)"
      ]
     },
     "execution_count": 9,
     "metadata": {},
     "output_type": "execute_result"
    }
   ],
   "source": [
    "req_columns"
   ]
  },
  {
   "cell_type": "code",
   "execution_count": 10,
   "metadata": {},
   "outputs": [],
   "source": [
    "data_final = data[req_columns]"
   ]
  },
  {
   "cell_type": "code",
   "execution_count": 11,
   "metadata": {},
   "outputs": [
    {
     "data": {
      "text/html": [
       "<div>\n",
       "<style scoped>\n",
       "    .dataframe tbody tr th:only-of-type {\n",
       "        vertical-align: middle;\n",
       "    }\n",
       "\n",
       "    .dataframe tbody tr th {\n",
       "        vertical-align: top;\n",
       "    }\n",
       "\n",
       "    .dataframe thead th {\n",
       "        text-align: right;\n",
       "    }\n",
       "</style>\n",
       "<table border=\"1\" class=\"dataframe\">\n",
       "  <thead>\n",
       "    <tr style=\"text-align: right;\">\n",
       "      <th></th>\n",
       "      <th>LotFrontage</th>\n",
       "      <th>LotArea</th>\n",
       "      <th>OverallQual</th>\n",
       "      <th>OverallCond</th>\n",
       "      <th>YearBuilt</th>\n",
       "      <th>YearRemodAdd</th>\n",
       "      <th>MasVnrArea</th>\n",
       "      <th>BsmtFinSF1</th>\n",
       "      <th>BsmtUnfSF</th>\n",
       "      <th>TotalBsmtSF</th>\n",
       "      <th>...</th>\n",
       "      <th>GarageQual_TA</th>\n",
       "      <th>GarageCond_Fa</th>\n",
       "      <th>GarageCond_TA</th>\n",
       "      <th>PavedDrive_N</th>\n",
       "      <th>PavedDrive_Y</th>\n",
       "      <th>SaleType_New</th>\n",
       "      <th>SaleType_WD</th>\n",
       "      <th>SaleCondition_Abnorml</th>\n",
       "      <th>SaleCondition_Normal</th>\n",
       "      <th>SaleCondition_Partial</th>\n",
       "    </tr>\n",
       "  </thead>\n",
       "  <tbody>\n",
       "    <tr>\n",
       "      <th>0</th>\n",
       "      <td>65.0</td>\n",
       "      <td>8450.0</td>\n",
       "      <td>7</td>\n",
       "      <td>5.0</td>\n",
       "      <td>2003</td>\n",
       "      <td>2003</td>\n",
       "      <td>196.0</td>\n",
       "      <td>706.0</td>\n",
       "      <td>150.0</td>\n",
       "      <td>856</td>\n",
       "      <td>...</td>\n",
       "      <td>1</td>\n",
       "      <td>0</td>\n",
       "      <td>1</td>\n",
       "      <td>0</td>\n",
       "      <td>1</td>\n",
       "      <td>0</td>\n",
       "      <td>1</td>\n",
       "      <td>0</td>\n",
       "      <td>1</td>\n",
       "      <td>0</td>\n",
       "    </tr>\n",
       "    <tr>\n",
       "      <th>1</th>\n",
       "      <td>80.0</td>\n",
       "      <td>9600.0</td>\n",
       "      <td>6</td>\n",
       "      <td>7.5</td>\n",
       "      <td>1976</td>\n",
       "      <td>1976</td>\n",
       "      <td>0.0</td>\n",
       "      <td>978.0</td>\n",
       "      <td>284.0</td>\n",
       "      <td>1262</td>\n",
       "      <td>...</td>\n",
       "      <td>1</td>\n",
       "      <td>0</td>\n",
       "      <td>1</td>\n",
       "      <td>0</td>\n",
       "      <td>1</td>\n",
       "      <td>0</td>\n",
       "      <td>1</td>\n",
       "      <td>0</td>\n",
       "      <td>1</td>\n",
       "      <td>0</td>\n",
       "    </tr>\n",
       "    <tr>\n",
       "      <th>2</th>\n",
       "      <td>68.0</td>\n",
       "      <td>11250.0</td>\n",
       "      <td>7</td>\n",
       "      <td>5.0</td>\n",
       "      <td>2001</td>\n",
       "      <td>2002</td>\n",
       "      <td>162.0</td>\n",
       "      <td>486.0</td>\n",
       "      <td>434.0</td>\n",
       "      <td>920</td>\n",
       "      <td>...</td>\n",
       "      <td>1</td>\n",
       "      <td>0</td>\n",
       "      <td>1</td>\n",
       "      <td>0</td>\n",
       "      <td>1</td>\n",
       "      <td>0</td>\n",
       "      <td>1</td>\n",
       "      <td>0</td>\n",
       "      <td>1</td>\n",
       "      <td>0</td>\n",
       "    </tr>\n",
       "    <tr>\n",
       "      <th>3</th>\n",
       "      <td>60.0</td>\n",
       "      <td>9550.0</td>\n",
       "      <td>7</td>\n",
       "      <td>5.0</td>\n",
       "      <td>1915</td>\n",
       "      <td>1970</td>\n",
       "      <td>0.0</td>\n",
       "      <td>216.0</td>\n",
       "      <td>540.0</td>\n",
       "      <td>756</td>\n",
       "      <td>...</td>\n",
       "      <td>1</td>\n",
       "      <td>0</td>\n",
       "      <td>1</td>\n",
       "      <td>0</td>\n",
       "      <td>1</td>\n",
       "      <td>0</td>\n",
       "      <td>1</td>\n",
       "      <td>1</td>\n",
       "      <td>0</td>\n",
       "      <td>0</td>\n",
       "    </tr>\n",
       "    <tr>\n",
       "      <th>4</th>\n",
       "      <td>84.0</td>\n",
       "      <td>14260.0</td>\n",
       "      <td>8</td>\n",
       "      <td>5.0</td>\n",
       "      <td>2000</td>\n",
       "      <td>2000</td>\n",
       "      <td>350.0</td>\n",
       "      <td>655.0</td>\n",
       "      <td>490.0</td>\n",
       "      <td>1145</td>\n",
       "      <td>...</td>\n",
       "      <td>1</td>\n",
       "      <td>0</td>\n",
       "      <td>1</td>\n",
       "      <td>0</td>\n",
       "      <td>1</td>\n",
       "      <td>0</td>\n",
       "      <td>1</td>\n",
       "      <td>0</td>\n",
       "      <td>1</td>\n",
       "      <td>0</td>\n",
       "    </tr>\n",
       "  </tbody>\n",
       "</table>\n",
       "<p>5 rows × 132 columns</p>\n",
       "</div>"
      ],
      "text/plain": [
       "   LotFrontage  LotArea  OverallQual  OverallCond  YearBuilt  YearRemodAdd  \\\n",
       "0         65.0   8450.0            7          5.0       2003          2003   \n",
       "1         80.0   9600.0            6          7.5       1976          1976   \n",
       "2         68.0  11250.0            7          5.0       2001          2002   \n",
       "3         60.0   9550.0            7          5.0       1915          1970   \n",
       "4         84.0  14260.0            8          5.0       2000          2000   \n",
       "\n",
       "   MasVnrArea  BsmtFinSF1  BsmtUnfSF  TotalBsmtSF  ...  GarageQual_TA  \\\n",
       "0       196.0       706.0      150.0          856  ...              1   \n",
       "1         0.0       978.0      284.0         1262  ...              1   \n",
       "2       162.0       486.0      434.0          920  ...              1   \n",
       "3         0.0       216.0      540.0          756  ...              1   \n",
       "4       350.0       655.0      490.0         1145  ...              1   \n",
       "\n",
       "   GarageCond_Fa  GarageCond_TA  PavedDrive_N  PavedDrive_Y  SaleType_New  \\\n",
       "0              0              1             0             1             0   \n",
       "1              0              1             0             1             0   \n",
       "2              0              1             0             1             0   \n",
       "3              0              1             0             1             0   \n",
       "4              0              1             0             1             0   \n",
       "\n",
       "   SaleType_WD  SaleCondition_Abnorml  SaleCondition_Normal  \\\n",
       "0            1                      0                     1   \n",
       "1            1                      0                     1   \n",
       "2            1                      0                     1   \n",
       "3            1                      1                     0   \n",
       "4            1                      0                     1   \n",
       "\n",
       "   SaleCondition_Partial  \n",
       "0                      0  \n",
       "1                      0  \n",
       "2                      0  \n",
       "3                      0  \n",
       "4                      0  \n",
       "\n",
       "[5 rows x 132 columns]"
      ]
     },
     "execution_count": 11,
     "metadata": {},
     "output_type": "execute_result"
    }
   ],
   "source": [
    "data_final.head()"
   ]
  },
  {
   "cell_type": "code",
   "execution_count": 12,
   "metadata": {},
   "outputs": [],
   "source": [
    "#splitting X and y\n",
    "\n",
    "y =  data['SalePrice']\n",
    "X =  data_final.drop('SalePrice',axis = 1)"
   ]
  },
  {
   "cell_type": "code",
   "execution_count": 13,
   "metadata": {},
   "outputs": [],
   "source": [
    "#import train_test_split to split the data for training and testing\n",
    "\n",
    "from sklearn.model_selection import train_test_split #we are only importing  train_test_split function from sklearn within the class model_selection\n",
    "\n",
    "#train_test_split is splitiing the data randomnly\n",
    "\n",
    "X_train, X_test, y_train, y_test = train_test_split(X, y, test_size=0.25) #75% data will be for training and 25% data for testing"
   ]
  },
  {
   "cell_type": "code",
   "execution_count": 14,
   "metadata": {},
   "outputs": [],
   "source": [
    "from sklearn.linear_model import LinearRegression  #importing LinearRegression from sklearn within the class linear_model"
   ]
  },
  {
   "cell_type": "code",
   "execution_count": 15,
   "metadata": {},
   "outputs": [],
   "source": [
    "lin_reg = LinearRegression() #creating object of LinearRegression"
   ]
  },
  {
   "cell_type": "code",
   "execution_count": 16,
   "metadata": {},
   "outputs": [
    {
     "data": {
      "text/plain": [
       "LinearRegression(copy_X=True, fit_intercept=True, n_jobs=None, normalize=False)"
      ]
     },
     "execution_count": 16,
     "metadata": {},
     "output_type": "execute_result"
    }
   ],
   "source": [
    "lin_reg.fit(X_train,y_train) #training and fitting LR object using training data"
   ]
  },
  {
   "cell_type": "code",
   "execution_count": 17,
   "metadata": {},
   "outputs": [
    {
     "name": "stdout",
     "output_type": "stream",
     "text": [
      "[ 1.06148849e+01  1.15655615e+00  5.73304444e+03  6.74554715e+03\n",
      "  9.91559478e+01  1.20083305e+02  7.22292354e+00 -1.87936823e+00\n",
      " -1.47657968e+01  2.84895682e+01 -9.87709872e+00 -5.36420845e+00\n",
      "  5.90432078e+01  3.09485218e+03 -1.56461296e+02  3.13416003e+02\n",
      " -8.41137239e+02 -3.84098254e+02  4.33475343e+03 -4.75309512e+01\n",
      "  7.18312354e+03  8.35627920e-01  1.37108474e+01  7.59753590e+00\n",
      " -4.29729751e+04 -1.30973087e+04 -5.53312289e+03 -1.23321210e+04\n",
      "  9.90892135e+03  9.11563677e+03  1.06617804e+04 -8.71844977e+03\n",
      "  1.25248747e+04  2.83171855e+03  1.80105912e+04  5.30126681e+03\n",
      " -1.35878459e+04 -9.04208902e+02 -1.37894057e+04 -9.33749748e+03\n",
      "  2.38381582e+04  2.63911089e+04 -8.62529279e+03 -6.22135868e+03\n",
      "  2.29409688e+04  2.76750268e+04  7.32381345e+03 -3.55085456e+03\n",
      " -1.43031247e+03  1.04868177e+04  8.49753399e+03 -2.83657600e+03\n",
      " -5.73387231e+03 -1.17971470e+04 -4.05426870e+03 -6.57312963e+03\n",
      "  2.87492046e+03 -1.98113466e+03 -1.89878714e+02  3.36171746e+04\n",
      "  7.87413754e+03 -9.69696484e+03 -6.93916788e+03 -2.36002904e+03\n",
      " -1.85635401e+03 -1.49983981e+04 -3.50069702e+03  1.85384459e+04\n",
      "  2.88740481e+03  2.81299897e+03  1.31099246e+04  5.16745356e+03\n",
      "  5.93203905e+03  8.48470212e+03 -5.62264734e+03  5.33713365e+03\n",
      "  2.53384233e+03 -2.24832864e+03  4.32425348e+03  2.82926889e+03\n",
      " -2.76500934e+03  2.37154106e+03  5.15968608e+03  9.81660613e+03\n",
      "  6.61777887e+03  3.20102935e+03 -3.97294836e+03 -5.84585986e+03\n",
      " -8.86275132e+03  5.12704535e+03 -2.15819821e+03  4.20776485e+03\n",
      " -4.25036132e+03  4.41045106e+03  8.23336494e+03  9.14677702e+03\n",
      "  6.86500468e+03  5.90604957e+03 -7.92283500e+03 -3.56290074e+03\n",
      "  1.60849567e+04  1.60297280e+04  1.20130997e+04  1.18346994e+04\n",
      " -1.66953277e+03  1.66953277e+03 -2.20878027e+03  9.12350163e+02\n",
      " -3.96222268e+03  1.30124791e+04 -8.40632451e+03 -5.89403265e+02\n",
      " -4.01675135e+03  1.72900935e+04  4.84855190e+03  5.32807288e+03\n",
      "  3.24238697e+03  1.38924208e+03 -1.13888715e+03 -2.50354928e+02\n",
      " -1.75520231e+04 -1.30598429e+04  1.95479687e+03  1.21857837e+04\n",
      "  1.04377547e+04  9.59715820e+03  4.73962596e+04 -3.49482436e+03\n",
      " -2.84113946e+03  6.43383544e+03 -4.24834235e+04]\n"
     ]
    }
   ],
   "source": [
    "m  = lin_reg.coef_\n",
    "print(m)"
   ]
  },
  {
   "cell_type": "code",
   "execution_count": 18,
   "metadata": {},
   "outputs": [
    {
     "data": {
      "text/plain": [
       "-417413.2862343027"
      ]
     },
     "execution_count": 18,
     "metadata": {},
     "output_type": "execute_result"
    }
   ],
   "source": [
    "c = lin_reg.intercept_\n",
    "c"
   ]
  },
  {
   "cell_type": "code",
   "execution_count": 19,
   "metadata": {},
   "outputs": [],
   "source": [
    "ypred=lin_reg.predict(X_test)  #ypred consist of the predicted salary corresponding to X_test"
   ]
  },
  {
   "cell_type": "code",
   "execution_count": 20,
   "metadata": {},
   "outputs": [],
   "source": [
    "ypred_train = lin_reg.predict(X_train)"
   ]
  },
  {
   "cell_type": "code",
   "execution_count": 21,
   "metadata": {},
   "outputs": [
    {
     "name": "stdout",
     "output_type": "stream",
     "text": [
      "MSE for Testing: 349126348.67015404\n"
     ]
    }
   ],
   "source": [
    "from sklearn.metrics import mean_squared_error #calculating MSE\n",
    "MSE=mean_squared_error(ypred,y_test)\n",
    "print(\"MSE for Testing:\",MSE)"
   ]
  },
  {
   "cell_type": "code",
   "execution_count": 39,
   "metadata": {},
   "outputs": [
    {
     "data": {
      "text/plain": [
       "18684.795810519896"
      ]
     },
     "execution_count": 39,
     "metadata": {},
     "output_type": "execute_result"
    }
   ],
   "source": [
    "#RMSE\n",
    "import math\n",
    "RMSE_testing = math.sqrt(MSE)\n",
    "RMSE_testing"
   ]
  },
  {
   "cell_type": "code",
   "execution_count": 23,
   "metadata": {},
   "outputs": [
    {
     "name": "stdout",
     "output_type": "stream",
     "text": [
      "MSE for Training: 372078458.1534359\n"
     ]
    }
   ],
   "source": [
    "#Training Error\n",
    "y_pred_training = lin_reg.predict(X_train)\n",
    "MSE_training=mean_squared_error(y_pred_training,y_train)\n",
    "print(\"MSE for Training:\",MSE_training)"
   ]
  },
  {
   "cell_type": "code",
   "execution_count": 40,
   "metadata": {},
   "outputs": [
    {
     "data": {
      "text/plain": [
       "19289.33534763279"
      ]
     },
     "execution_count": 40,
     "metadata": {},
     "output_type": "execute_result"
    }
   ],
   "source": [
    "#RMSE\n",
    "RMSE_training = math.sqrt(MSE_training)\n",
    "RMSE_training"
   ]
  },
  {
   "cell_type": "code",
   "execution_count": 26,
   "metadata": {},
   "outputs": [
    {
     "data": {
      "text/plain": [
       "0.9135220355249505"
      ]
     },
     "execution_count": 26,
     "metadata": {},
     "output_type": "execute_result"
    }
   ],
   "source": [
    "lin_reg.score(X_train,y_train) #Train R2 value"
   ]
  },
  {
   "cell_type": "code",
   "execution_count": 27,
   "metadata": {},
   "outputs": [
    {
     "data": {
      "text/plain": [
       "0.9321325585279924"
      ]
     },
     "execution_count": 27,
     "metadata": {},
     "output_type": "execute_result"
    }
   ],
   "source": [
    "lin_reg.score(X_test,y_test) #Test R2 value"
   ]
  },
  {
   "cell_type": "markdown",
   "metadata": {},
   "source": [
    "### Adding Parameters to Linear Regression"
   ]
  },
  {
   "cell_type": "code",
   "execution_count": 28,
   "metadata": {},
   "outputs": [],
   "source": [
    "?LinearRegression"
   ]
  },
  {
   "cell_type": "code",
   "execution_count": 29,
   "metadata": {},
   "outputs": [],
   "source": [
    "lin_reg_normal = LinearRegression(normalize=True)"
   ]
  },
  {
   "cell_type": "code",
   "execution_count": 30,
   "metadata": {},
   "outputs": [
    {
     "data": {
      "text/plain": [
       "LinearRegression(copy_X=True, fit_intercept=True, n_jobs=None, normalize=True)"
      ]
     },
     "execution_count": 30,
     "metadata": {},
     "output_type": "execute_result"
    }
   ],
   "source": [
    "lin_reg_normal.fit(X_train,y_train) #training and fitting LR object using training data"
   ]
  },
  {
   "cell_type": "code",
   "execution_count": 31,
   "metadata": {},
   "outputs": [
    {
     "name": "stdout",
     "output_type": "stream",
     "text": [
      "[ 1.08169781e+01  1.15568540e+00  5.73546691e+03  6.74688620e+03\n",
      "  9.90996750e+01  1.20075459e+02  7.22244399e+00 -1.87772774e+00\n",
      " -1.47621539e+01  2.84754580e+01 -9.86510076e+00 -5.36224116e+00\n",
      "  5.90336817e+01  3.09557146e+03 -1.58596096e+02  3.09818209e+02\n",
      " -8.43713481e+02 -3.84437641e+02  4.33345347e+03 -4.75224390e+01\n",
      "  7.18445768e+03  8.31996733e-01  1.37162298e+01  7.62650557e+00\n",
      " -4.30134230e+04 -1.31219479e+04 -5.56013330e+03 -1.23589911e+04\n",
      "  9.91372293e+03  9.12355466e+03  1.06669298e+04 -8.71849242e+03\n",
      "  1.25283516e+04  2.83118952e+03  1.80250722e+04  5.29899572e+03\n",
      " -1.35849456e+04 -9.00465505e+02 -1.37704629e+04 -9.33925301e+03\n",
      "  2.38489721e+04  2.64041385e+04 -8.62006547e+03 -6.21333744e+03\n",
      "  2.29444275e+04  2.76700377e+04  7.33399699e+03 -3.54653913e+03\n",
      " -1.42833557e+03  1.04863223e+04  8.50010817e+03 -2.84143583e+03\n",
      " -5.72437250e+03 -1.17996101e+04 -4.04843031e+03 -6.56799615e+03\n",
      "  2.87200173e+03 -1.96635788e+03 -1.77984843e+02  3.36326245e+04\n",
      "  7.87369649e+03 -9.68965433e+03 -6.93755980e+03 -2.33868009e+03\n",
      " -1.85016009e+03 -1.49931543e+04 -3.49493106e+03  1.85280425e+04\n",
      "  2.86936668e+03  2.80795852e+03  1.31064507e+04  5.17718323e+03\n",
      "  5.94140076e+03  8.48659674e+03 -9.01399337e+15 -9.01399337e+15\n",
      " -9.01399337e+15 -9.01399337e+15  4.33554166e+03  2.83233602e+03\n",
      " -2.75693807e+03  2.37877943e+03  5.16145689e+03  9.80756204e+03\n",
      "  1.57310497e+16  1.57310497e+16  1.57310497e+16  1.57310497e+16\n",
      " -8.86804251e+03  5.13544368e+03 -2.15822387e+03  4.20594842e+03\n",
      " -4.25048388e+03  4.41222022e+03  8.23151929e+03  9.14484553e+03\n",
      "  6.86885710e+03  5.90219587e+03 -7.90353726e+03 -3.56202268e+03\n",
      "  1.60704500e+04  1.60209520e+04  1.20008141e+04  1.18203302e+04\n",
      " -5.78433161e+15 -5.78433161e+15 -2.17429761e+03  9.46514638e+02\n",
      " -3.92263339e+03  1.70225372e+13  1.70225371e+13  1.70225371e+13\n",
      "  1.70225371e+13  1.72783335e+04  4.85198303e+03  5.33170443e+03\n",
      "  3.24811720e+03  3.90419955e+15  3.90419955e+15  3.90419955e+15\n",
      " -1.75585994e+04 -1.30590708e+04  1.95990006e+03  1.21841286e+04\n",
      "  1.04351517e+04  9.59491123e+03  4.73824688e+04 -3.49846352e+03\n",
      " -2.84956556e+03  6.42784125e+03 -4.24786769e+04]\n"
     ]
    }
   ],
   "source": [
    "m  = lin_reg_normal.coef_\n",
    "print(m)"
   ]
  },
  {
   "cell_type": "code",
   "execution_count": 32,
   "metadata": {},
   "outputs": [],
   "source": [
    "ypred=lin_reg_normal.predict(X_test)  #ypred consist of the predicted salary corresponding to X_test"
   ]
  },
  {
   "cell_type": "code",
   "execution_count": 33,
   "metadata": {},
   "outputs": [
    {
     "name": "stdout",
     "output_type": "stream",
     "text": [
      "MSE for Testing: 349121594.4808219\n"
     ]
    }
   ],
   "source": [
    "from sklearn.metrics import mean_squared_error #calculating MSE\n",
    "MSE=mean_squared_error(ypred,y_test)\n",
    "print(\"MSE for Testing:\",MSE)"
   ]
  },
  {
   "cell_type": "code",
   "execution_count": 34,
   "metadata": {},
   "outputs": [
    {
     "data": {
      "text/plain": [
       "0.9321334827053496"
      ]
     },
     "execution_count": 34,
     "metadata": {},
     "output_type": "execute_result"
    }
   ],
   "source": [
    "lin_reg_normal.score(X_test,y_test) #Test R2 value"
   ]
  },
  {
   "cell_type": "code",
   "execution_count": 37,
   "metadata": {},
   "outputs": [],
   "source": [
    "#normalization reduces the performance of Linear Regression.\n",
    "\n",
    "#we will not perform normalization for this usecase."
   ]
  },
  {
   "cell_type": "code",
   "execution_count": 36,
   "metadata": {},
   "outputs": [],
   "source": [
    "#END"
   ]
  }
 ],
 "metadata": {
  "kernelspec": {
   "display_name": "Python 3",
   "language": "python",
   "name": "python3"
  },
  "language_info": {
   "codemirror_mode": {
    "name": "ipython",
    "version": 3
   },
   "file_extension": ".py",
   "mimetype": "text/x-python",
   "name": "python",
   "nbconvert_exporter": "python",
   "pygments_lexer": "ipython3",
   "version": "3.7.6"
  }
 },
 "nbformat": 4,
 "nbformat_minor": 4
}
